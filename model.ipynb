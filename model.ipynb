{
 "cells": [
  {
   "cell_type": "code",
   "execution_count": 1,
   "id": "8810c930",
   "metadata": {},
   "outputs": [],
   "source": [
    "import numpy as np\n",
    "import pandas as pd\n",
    "import pickle"
   ]
  },
  {
   "cell_type": "code",
   "execution_count": 2,
   "id": "3c54ade1",
   "metadata": {},
   "outputs": [],
   "source": [
    "class SentimentBasedRecommenderSystem:\n",
    "    best_snmt_model = \"logistic_reg_final_model.pkl\"\n",
    "    tfidf_vect = \"tfidf_vectorizer.pkl\"\n",
    "    best_recomm = \"best_recommender_model.pkl\"\n",
    "    sentiment_df = \"sentiment_dataframe.pkl\"\n",
    "\n",
    "    def __init__(self):\n",
    "        # Load all pickle files\n",
    "        self.sentiment_model = pickle.load(open(SentimentBasedRecommenderSystem.best_snmt_model, 'rb'))\n",
    "        self.tfidf_vectorizer = pd.read_pickle(SentimentBasedRecommenderSystem.tfidf_vect)\n",
    "        self.user_final_rating = pickle.load(open(SentimentBasedRecommenderSystem.best_recomm, 'rb'))\n",
    "        self.snmt_data = pickle.load(open(SentimentBasedRecommenderSystem.sentiment_df, 'rb'))\n",
    "\n",
    "    def top_5_recommendations(self, UserName):\n",
    "        if UserName not in self.user_final_rating.index:\n",
    "            print(f\"The User '{UserName}' doesn't exist. Please provide a valid user name\")\n",
    "            return None\n",
    "        else:\n",
    "            # Get top 20 recommended products from the best recommendation model\n",
    "            top_20_recommended_products = list(\n",
    "                self.user_final_rating.loc[UserName].sort_values(ascending=False)[0:20].index)\n",
    "            # Get only the recommended products from the prepared dataframe \"df_sent_Ana\"\n",
    "            df_top_20_products = self.snmt_data[self.snmt_data.id.isin(top_20_recommended_products)]\n",
    "            # For these 20 products, get their user reviews and pass them through TF-IDF vectorizer to convert the data into suitable format for modeling\n",
    "            X = self.tfidf_vectorizer.transform(df_top_20_products[\"lemmatized_reviews\"].values.astype(str))\n",
    "            # Use the best sentiment model to predict the sentiment for these user reviews\n",
    "            df_top_20_products['predicted_snmt'] = self.sentiment_model.predict(X)\n",
    "            # Create a new dataframe \"predicted_df\" to store the count of positive user sentiments\n",
    "            predicted_df = pd.DataFrame(df_top_20_products.groupby(by='name').sum()['predicted_snmt'])\n",
    "            predicted_df.columns = ['pos_snmt_count']\n",
    "            # Create a column to measure the total sentiment count\n",
    "            predicted_df['total_snmt_count'] = df_top_20_products.groupby(by='name')['predicted_snmt'].count()\n",
    "            # Create a column that measures the % of positive user sentiment for each product review\n",
    "            predicted_df['positive_snmt_per'] = np.round(predicted_df['pos_snmt_count'] / predicted_df['total_snmt_count'] * 100, 2)\n",
    "            # Return top 5 recommended products to the user\n",
    "            result = list(predicted_df.sort_values(by='positive_snmt_per', ascending=False)[:5].index)\n",
    "            return result"
   ]
  },
  {
   "cell_type": "code",
   "execution_count": null,
   "id": "5108e0ec",
   "metadata": {},
   "outputs": [],
   "source": []
  }
 ],
 "metadata": {
  "kernelspec": {
   "display_name": "Python 3 (ipykernel)",
   "language": "python",
   "name": "python3"
  },
  "language_info": {
   "codemirror_mode": {
    "name": "ipython",
    "version": 3
   },
   "file_extension": ".py",
   "mimetype": "text/x-python",
   "name": "python",
   "nbconvert_exporter": "python",
   "pygments_lexer": "ipython3",
   "version": "3.9.7"
  }
 },
 "nbformat": 4,
 "nbformat_minor": 5
}
